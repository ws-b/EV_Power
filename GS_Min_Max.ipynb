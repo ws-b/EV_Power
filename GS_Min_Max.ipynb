{
 "cells": [
  {
   "cell_type": "code",
   "id": "initial_id",
   "metadata": {
    "collapsed": true,
    "ExecuteTime": {
     "end_time": "2024-07-22T11:27:46.478906Z",
     "start_time": "2024-07-22T11:25:20.517592Z"
    }
   },
   "source": [
    "import os\n",
    "import pandas as pd\n",
    "from concurrent.futures import ThreadPoolExecutor\n",
    "import multiprocessing\n",
    "\n",
    "def process_file(file_path, columns):\n",
    "    results = {col: {'min': float('inf'), 'max': float('-inf')} for col in columns}\n",
    "    df = pd.read_csv(file_path)\n",
    "    \n",
    "    for col in columns:\n",
    "        if col in df.columns:\n",
    "            col_min = df[col].min()\n",
    "            col_max = df[col].max()\n",
    "            results[col]['min'] = col_min\n",
    "            results[col]['max'] = col_max\n",
    "    \n",
    "    return results\n",
    "\n",
    "def get_all_csv_files(directory):\n",
    "    csv_files = []\n",
    "    for root, dirs, files in os.walk(directory):\n",
    "        for file in files:\n",
    "            if file.endswith('.csv'):\n",
    "                csv_files.append(os.path.join(root, file))\n",
    "    return csv_files\n",
    "\n",
    "def get_min_max_values(directory, columns):\n",
    "    file_paths = get_all_csv_files(directory)\n",
    "    \n",
    "    final_results = {col: {'min': float('inf'), 'max': float('-inf')} for col in columns}\n",
    "    \n",
    "    with ThreadPoolExecutor() as executor:\n",
    "        futures = [executor.submit(process_file, file_path, columns) for file_path in file_paths]\n",
    "        \n",
    "        for future in futures:\n",
    "            result = future.result()\n",
    "            for col in columns:\n",
    "                final_results[col]['min'] = min(final_results[col]['min'], result[col]['min'])\n",
    "                final_results[col]['max'] = max(final_results[col]['max'], result[col]['max'])\n",
    "    \n",
    "    return final_results\n",
    "\n",
    "# 사용 예시\n",
    "if __name__ == '__main__':\n",
    "    directory = r'D:\\SamsungSTF\\Processed_Data\\TripByTrip'\n",
    "    columns_to_check = ['speed', 'acceleration', 'ext_temp', 'int_temp']\n",
    "\n",
    "    min_max_values = get_min_max_values(directory, columns_to_check)\n",
    "\n",
    "    for col, values in min_max_values.items():\n",
    "        print(f\"{col}: 최소값 = {values['min']}, 최대값 = {values['max']}\")"
   ],
   "outputs": [
    {
     "name": "stdout",
     "output_type": "stream",
     "text": [
      "speed: 최소값 = 0.0, 최대값 = 60.83382\n",
      "acceleration: 최소값 = -10.277860000000002, 최대값 = 8.611180000000001\n",
      "ext_temp: 최소값 = -19, 최대값 = 48\n",
      "int_temp: 최소값 = -15, 최대값 = 60\n"
     ]
    }
   ],
   "execution_count": 1
  },
  {
   "metadata": {},
   "cell_type": "code",
   "outputs": [],
   "execution_count": null,
   "source": "",
   "id": "6bf060087eca892c"
  }
 ],
 "metadata": {
  "kernelspec": {
   "display_name": "Python 3",
   "language": "python",
   "name": "python3"
  },
  "language_info": {
   "codemirror_mode": {
    "name": "ipython",
    "version": 2
   },
   "file_extension": ".py",
   "mimetype": "text/x-python",
   "name": "python",
   "nbconvert_exporter": "python",
   "pygments_lexer": "ipython2",
   "version": "2.7.6"
  }
 },
 "nbformat": 4,
 "nbformat_minor": 5
}
