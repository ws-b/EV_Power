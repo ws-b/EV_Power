{
 "cells": [
  {
   "metadata": {
    "ExecuteTime": {
     "end_time": "2024-06-08T03:33:51.352644Z",
     "start_time": "2024-06-08T03:33:11.813951Z"
    }
   },
   "cell_type": "code",
   "source": [
    "import os\n",
    "import filecmp\n",
    "from concurrent.futures import ThreadPoolExecutor, as_completed\n",
    "\n",
    "def get_all_files(folder):\n",
    "    \"\"\"\n",
    "    주어진 폴더 내의 모든 파일 경로를 재귀적으로 가져옵니다.\n",
    "    \"\"\"\n",
    "    file_paths = []\n",
    "    for root, _, files in os.walk(folder):\n",
    "        for file in files:\n",
    "            file_paths.append(os.path.join(root, file))\n",
    "    return file_paths\n",
    "\n",
    "def compare_file_pair(file1, file2):\n",
    "    \"\"\"\n",
    "    두 파일을 비교하여 이름, 크기, 내용이 동일한지 여부를 반환합니다.\n",
    "    \"\"\"\n",
    "    if os.path.getsize(file1) != os.path.getsize(file2):\n",
    "        return False\n",
    "    return filecmp.cmp(file1, file2, shallow=False)\n",
    "\n",
    "def compare_folders(folder1, folder2):\n",
    "    # 폴더 내 모든 파일의 경로를 가져옵니다.\n",
    "    files_folder1 = {os.path.relpath(path, folder1): path for path in get_all_files(folder1)}\n",
    "    files_folder2 = {os.path.relpath(path, folder2): path for path in get_all_files(folder2)}\n",
    "\n",
    "    # 두 폴더에서 동일한 상대 경로를 가진 파일을 찾습니다.\n",
    "    common_files = set(files_folder1.keys()).intersection(files_folder2.keys())\n",
    "\n",
    "    # 병렬 처리 설정\n",
    "    comparison_results = {}\n",
    "    with ThreadPoolExecutor() as executor:\n",
    "        future_to_file = {executor.submit(compare_file_pair, files_folder1[relative_path], files_folder2[relative_path]): relative_path for relative_path in common_files}\n",
    "        for future in as_completed(future_to_file):\n",
    "            relative_path = future_to_file[future]\n",
    "            try:\n",
    "                is_same = future.result()\n",
    "                comparison_results[relative_path] = is_same\n",
    "            except Exception as exc:\n",
    "                print(f\"{relative_path} generated an exception: {exc}\")\n",
    "\n",
    "    return comparison_results\n",
    "\n",
    "# 폴더 경로 설정\n",
    "folder1 = r\"D:\\SamsungSTF\\Processed_Data\\Multi_TripByTrip\"\n",
    "folder2 = r\"D:\\SamsungSTF\\Processed_Data\\TripByTrip\"\n",
    "\n",
    "# 비교 수행\n",
    "results = compare_folders(folder1, folder2)\n",
    "\n",
    "# \"Different\" 파일만 출력\n",
    "different_files_found = False\n",
    "for file, is_same in results.items():\n",
    "    if not is_same:\n",
    "        print(f\"{file} : Different\")\n",
    "        different_files_found = True\n",
    "\n",
    "if not different_files_found:\n",
    "    print(\"다른 파일이 없습니다.\")\n"
   ],
   "id": "e1f98955c696f415",
   "outputs": [
    {
     "name": "stdout",
     "output_type": "stream",
     "text": [
      "다른 파일이 없습니다.\n"
     ]
    }
   ],
   "execution_count": 7
  }
 ],
 "metadata": {
  "kernelspec": {
   "display_name": "Python 3",
   "language": "python",
   "name": "python3"
  },
  "language_info": {
   "codemirror_mode": {
    "name": "ipython",
    "version": 2
   },
   "file_extension": ".py",
   "mimetype": "text/x-python",
   "name": "python",
   "nbconvert_exporter": "python",
   "pygments_lexer": "ipython2",
   "version": "2.7.6"
  }
 },
 "nbformat": 4,
 "nbformat_minor": 5
}
