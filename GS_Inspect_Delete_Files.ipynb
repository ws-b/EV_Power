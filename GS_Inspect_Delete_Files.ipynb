{
 "cells": [
  {
   "cell_type": "code",
   "execution_count": null,
   "id": "af1e39bb3b34fc8f",
   "metadata": {},
   "outputs": [],
   "source": [
    "import os\n",
    "\n",
    "# 삭제할 파일명의 리스트\n",
    "strings_to_delete = [\n",
    "    \"01241124056\", \"01241228122\", \"01241228130\", \"01241228151\", \"01241228154\",\n",
    "    \"01241228156\", \"01241228197\", \"01241228203\", \"01241228204\", \"01241248727\",\n",
    "    \"01241228123\", \"01241228149\", \"01241228153\", \"01241228155\", \"01241248726\",\n",
    "    \"01241364621\", \"01241592904\"\n",
    "]\n",
    "\n",
    "# 기준 폴더 경로\n",
    "folders_to_process = [\n",
    "    r'D:\\SamsungSTF\\Processed_Data\\Merged',\n",
    "    r'D:\\SamsungSTF\\Processed_Data\\TripByTrip'\n",
    "]\n",
    "\n",
    "# 파일 삭제 함수\n",
    "def delete_files(base_folders, strings_to_delete):\n",
    "    for base_folder in base_folders:\n",
    "        for root, dirs, files in os.walk(base_folder):\n",
    "            for file in files:\n",
    "                if any(s in file for s in strings_to_delete):\n",
    "                    file_path = os.path.join(root, file)\n",
    "                    try:\n",
    "                        os.remove(file_path)\n",
    "                        print(f\"Deleted: {file_path}\")\n",
    "                    except Exception as e:\n",
    "                        print(f\"Error deleting {file_path}: {e}\")\n",
    "\n",
    "# 파일 삭제 실행\n",
    "delete_files(folders_to_process, strings_to_delete)"
   ]
  }
 ],
 "metadata": {
  "kernelspec": {
   "display_name": "Python 3 (ipykernel)",
   "language": "python",
   "name": "python3"
  },
  "language_info": {
   "codemirror_mode": {
    "name": "ipython",
    "version": 3
   },
   "file_extension": ".py",
   "mimetype": "text/x-python",
   "name": "python",
   "nbconvert_exporter": "python",
   "pygments_lexer": "ipython3",
   "version": "3.12.0"
  }
 },
 "nbformat": 4,
 "nbformat_minor": 5
}
