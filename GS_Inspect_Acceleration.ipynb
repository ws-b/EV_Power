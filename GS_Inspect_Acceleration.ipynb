{
 "cells": [
  {
   "cell_type": "code",
   "metadata": {
    "ExecuteTime": {
     "end_time": "2024-06-04T09:17:18.981789Z",
     "start_time": "2024-06-04T09:16:39.846700Z"
    }
   },
   "source": [
    "import os\n",
    "import pandas as pd\n",
    "import dask.bag as db\n",
    "from dask.distributed import Client\n",
    "import shutil\n",
    "\n",
    "# Define the directories and output path\n",
    "directory = r'D:\\SamsungSTF\\Processed_Data\\TripByTrip'\n",
    "output_path = r'C:\\Users\\BSL\\Desktop\\result_files_acc.csv'\n",
    "destination_directory = r'D:\\SamsungSTF\\Processed_Data\\MissingData'\n",
    "\n",
    "# Function to check if a file contains acceleration values >= 9.8\n",
    "def check_file(filepath):\n",
    "    try:\n",
    "        df = pd.read_csv(filepath)\n",
    "        if 'acceleration' in df.columns:\n",
    "            if (df['acceleration'].abs() >= 9).any():\n",
    "                return os.path.basename(filepath)\n",
    "    except Exception as e:\n",
    "        print(f\"Error processing file {filepath}: {e}\")\n",
    "    return None\n",
    "\n",
    "def main():\n",
    "    # Start a Dask client with a specified port\n",
    "    client = Client(dashboard_address=':7869')  # You can choose any available port here\n",
    "\n",
    "    # Get list of all CSV files in the directory\n",
    "    csv_files = [os.path.join(directory, filename) for filename in os.listdir(directory) if filename.endswith(\".csv\")]\n",
    "\n",
    "    # Create a Dask bag of the file paths\n",
    "    file_bag = db.from_sequence(csv_files, npartitions=32)\n",
    "    \n",
    "    # Map the check_file function to the file paths\n",
    "    results = file_bag.map(check_file).compute()\n",
    "\n",
    "    # Filter out None results\n",
    "    files_with_high_acceleration = [result for result in results if result]\n",
    "    files_with_high_acceleration.sort()\n",
    "    \n",
    "    # Save results to a CSV file\n",
    "    result_df = pd.DataFrame(files_with_high_acceleration, columns=['filename'])\n",
    "    result_df.to_csv(output_path, index=False)\n",
    "\n",
    "    # Move files with high acceleration to the destination directory\n",
    "    for filename in files_with_high_acceleration:\n",
    "        source_path = os.path.join(directory, filename)\n",
    "        destination_path = os.path.join(destination_directory, filename)\n",
    "        shutil.move(source_path, destination_path)\n",
    "    \n",
    "    client.close()\n",
    "    return files_with_high_acceleration\n",
    "\n",
    "if __name__ == \"__main__\":\n",
    "    result_files = main()\n",
    "    print(result_files)\n"
   ],
   "outputs": [
    {
     "name": "stdout",
     "output_type": "stream",
     "text": [
      "['bms_01241228154-2023-02-trip-39.csv', 'bms_01241228156-2023-04-trip-33.csv', 'bms_01241228197-2023-08-trip-22.csv', 'bms_altitude_01241228149-2023-10-trip-12.csv', 'bms_altitude_01241248726-2024-03-trip-32.csv']\n"
     ]
    }
   ],
   "execution_count": 1
  }
 ],
 "metadata": {
  "kernelspec": {
   "display_name": "Python 3",
   "language": "python",
   "name": "python3"
  },
  "language_info": {
   "codemirror_mode": {
    "name": "ipython",
    "version": 3
   },
   "file_extension": ".py",
   "mimetype": "text/x-python",
   "name": "python",
   "nbconvert_exporter": "python",
   "pygments_lexer": "ipython3",
   "version": "3.12.0"
  }
 },
 "nbformat": 4,
 "nbformat_minor": 2
}
