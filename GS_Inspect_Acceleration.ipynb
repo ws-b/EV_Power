{
 "cells": [
  {
   "cell_type": "code",
   "metadata": {
    "jupyter": {
     "is_executing": true
    },
    "ExecuteTime": {
     "start_time": "2024-06-08T04:03:14.871160Z"
    }
   },
   "source": [
    "import os\n",
    "import pandas as pd\n",
    "import shutil\n",
    "from concurrent.futures import ThreadPoolExecutor, as_completed\n",
    "\n",
    "# Define the directories and output path\n",
    "directory = r'D:\\SamsungSTF\\Processed_Data\\TripByTrip'\n",
    "output_path = r'C:\\Users\\BSL\\Desktop\\result_files_acc.csv'\n",
    "destination_directory = r'D:\\SamsungSTF\\Processed_Data\\MissingData'\n",
    "if not os.path.exists(destination_directory):\n",
    "    os.makedirs(destination_directory)\n",
    "    \n",
    "# Function to check if a file contains acceleration values >= 9.8\n",
    "def check_file(filepath):\n",
    "    try:\n",
    "        df = pd.read_csv(filepath)\n",
    "        if 'acceleration' in df.columns:\n",
    "            if (df['acceleration'].abs() >= 7).any():\n",
    "                return os.path.basename(filepath)\n",
    "    except Exception as e:\n",
    "        print(f\"Error processing file {filepath}: {e}\")\n",
    "    return None\n",
    "\n",
    "def main():\n",
    "    # Get list of all CSV files in the directory\n",
    "    csv_files = [os.path.join(directory, filename) for filename in os.listdir(directory) if filename.endswith(\".csv\")]\n",
    "\n",
    "    files_with_high_acceleration = []\n",
    "\n",
    "    # Create a ThreadPoolExecutor\n",
    "    with ThreadPoolExecutor(max_workers=16) as executor:\n",
    "        # Map the check_file function to the file paths\n",
    "        futures = {executor.submit(check_file, filepath): filepath for filepath in csv_files}\n",
    "\n",
    "        for future in as_completed(futures):\n",
    "            result = future.result()\n",
    "            if result:\n",
    "                files_with_high_acceleration.append(result)\n",
    "\n",
    "    # Sort the results\n",
    "    files_with_high_acceleration.sort()\n",
    "\n",
    "    # Save results to a CSV file\n",
    "    result_df = pd.DataFrame(files_with_high_acceleration, columns=['filename'])\n",
    "    result_df.to_csv(output_path, index=False)\n",
    "\n",
    "    # Move files with high acceleration to the destination directory\n",
    "    for filename in files_with_high_acceleration:\n",
    "        source_path = os.path.join(directory, filename)\n",
    "        destination_path = os.path.join(destination_directory, filename)\n",
    "        shutil.move(source_path, destination_path)\n",
    "\n",
    "    return files_with_high_acceleration\n",
    "\n",
    "if __name__ == \"__main__\":\n",
    "    result_files = main()\n",
    "    print(result_files)\n"
   ],
   "outputs": [],
   "execution_count": null
  }
 ],
 "metadata": {
  "kernelspec": {
   "display_name": "Python 3",
   "language": "python",
   "name": "python3"
  },
  "language_info": {
   "codemirror_mode": {
    "name": "ipython",
    "version": 3
   },
   "file_extension": ".py",
   "mimetype": "text/x-python",
   "name": "python",
   "nbconvert_exporter": "python",
   "pygments_lexer": "ipython3",
   "version": "3.12.0"
  }
 },
 "nbformat": 4,
 "nbformat_minor": 2
}
