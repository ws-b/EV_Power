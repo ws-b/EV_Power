{
 "cells": [
  {
   "metadata": {},
   "cell_type": "raw",
   "source": "",
   "id": "84345df95246e895"
  }
 ],
 "metadata": {},
 "nbformat": 5,
 "nbformat_minor": 9
}
