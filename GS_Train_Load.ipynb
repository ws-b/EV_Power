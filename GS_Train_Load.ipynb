{
  "cells": [
    {
      "cell_type": "code",
      "execution_count": null,
      "metadata": {},
      "outputs": [],
      "source": [
        "import os\n",
        "import glob\n",
        "import pandas as pd\n",
        "import random\n",
        "import numpy as np\n",
        "import xgboost as xgb\n",
        "from sklearn.preprocessing import StandardScaler\n",
        "import matplotlib.pyplot as plt\n",
        "import matplotlib.dates as mdates\n",
        "from GS_vehicle_dict import vehicle_dict"
      ]
    },
    {
      "cell_type": "code",
      "execution_count": null,
      "metadata": {},
      "outputs": [],
      "source": [
        "def load_files(base_dir, vehicle_dict):\n",
        "    all_files = []\n",
        "    for vehicle, ids in vehicle_dict.items():\n",
        "        for vid in ids:\n",
        "            patterns = [\n",
        "                os.path.join(base_dir, f\"**/bms_{vid}-*\"),\n",
        "                os.path.join(base_dir, f\"**/bms_altitude_{vid}-*\")\n",
        "            ]\n",
        "            for pattern in patterns:\n",
        "                all_files += glob.glob(pattern, recursive=True)\n",
        "    return all_files"
      ]
    },
    {
      "cell_type": "code",
      "execution_count": null,
      "metadata": {},
      "outputs": [],
      "source": [
        "def add_predicted_power(files, model_path):\n",
        "    model = xgb.XGBRegressor()\n",
        "    model.load_model(model_path)\n",
        "    \n",
        "    for file in files:\n",
        "        try:\n",
        "            data = pd.read_csv(file)\n",
        "            if 'Power' in data.columns and 'Power_IV' in data.columns:\n",
        "                features = data[['speed', 'acceleration']]\n",
        "                scaler = StandardScaler()\n",
        "                features_scaled = scaler.fit_transform(features)\n",
        "                y_pred = model.predict(features_scaled)\n",
        "                data['Predicted_Power'] = data['Power_IV'] - y_pred\n",
        "                data.to_csv(file, index=False)\n",
        "                print(f\"Processed file {file}\")\n",
        "        except Exception as e:\n",
        "            print(f\"Error processing file {file}: {e}\")"
      ]
    },
    {
      "cell_type": "code",
      "execution_count": null,
      "metadata": {},
      "outputs": [],
      "source": [
        "def plot_comparison(data, file_name):\n",
        "    data['time'] = pd.to_datetime(data['time'])\n",
        "    interval = (data['time'].diff().dt.total_seconds().fillna(0) / 3600)\n",
        "    Predicted_Energy = np.cumsum(data['Predicted_Power'] / 1000 * interval)\n",
        "    Model_Energy = np.cumsum(data['Power'] / 1000 * interval)\n",
        "    Actual_Energy = np.cumsum(data['Power_IV'] / 1000 * interval)\n",
        "    \n",
        "    fig, (ax1, ax2) = plt.subplots(2, 1, figsize=(12, 10))\n",
        "\n",
        "    ax1.set_title('Actual vs Predicted Power over Time')\n",
        "    ax1.plot(data['time'], data['Power_IV'] / 1000, label='Actual Power_IV (kW)', color='blue')\n",
        "    ax1.plot(data['time'], data['Predicted_Power'] / 1000, label='Predicted Power (kW)', color='red')\n",
        "    ax1.plot(data['time'], data['Power'] / 1000, label='Model Power (kW)', color='green')\n",
        "    ax1.set_xlabel('Time')\n",
        "    ax1.set_ylabel('Power (kW)')\n",
        "    ax1.legend(loc='upper left', bbox_to_anchor=(0, 0.95))\n",
        "    ax1.grid(True)\n",
        "    date = data['time'].iloc[0].strftime('%Y-%m-%d')\n",
        "    ax1.text(0.99, 0.98, date, transform=ax1.transAxes, fontsize=12, verticalalignment='top', horizontalalignment='right', color='black')\n",
        "    ax1.text(0.01, 0.98, f'File: {file_name}', transform=ax1.transAxes, fontsize=10, verticalalignment='top', horizontalalignment='left', color='black')\n",
        "    ax1.xaxis.set_major_formatter(mdates.DateFormatter('%H:%M'))\n",
        "    \n",
        "    ax2.set_title('Actual vs Predicted Energy over Time')\n",
        "    ax2.plot(data['time'], Actual_Energy, label='Actual Energy (kWh)', color='blue')\n",
        "    ax2.plot(data['time'], Predicted_Energy, label='Predicted Energy (kWh)', color='red')\n",
        "    ax2.plot(data['time'], Model_Energy, label='Model Energy (kWh)', color='tab:green')\n",
        "    ax2.set_xlabel('Time')\n",
        "    ax2.set_ylabel('Energy (kWh)')\n",
        "    ax2.legend(loc='upper left', bbox_to_anchor=(0, 0.95))\n",
        "    ax2.grid(True)\n",
        "    ax2.text(0.99, 0.98, date, transform=ax2.transAxes, fontsize=12, verticalalignment='top', horizontalalignment='right', color='black')\n",
        "    ax2.text(0.01, 0.98, f'File: {file_name}', transform=ax2.transAxes, fontsize=10, verticalalignment='top', horizontalalignment='left', color='black')\n",
        "    ax2.xaxis.set_major_formatter(mdates.DateFormatter('%H:%M'))\n",
        "    \n",
        "    if 'altitude' in data.columns:\n",
        "        data.set_index('time', inplace=True)\n",
        "        data_resampled = data.resample('1T').mean()\n",
        "        ax2_alt = ax2.twinx()\n",
        "        ax2_alt.set_ylabel('Altitude (m)')\n",
        "        ax2_alt.plot(data_resampled.index, data_resampled['altitude'], label='Altitude (m)', color='tab:orange', linestyle='-')\n",
        "        ax2_alt.legend(loc='upper right', bbox_to_anchor=(1, 0.97))\n",
        "        data.reset_index(inplace=True)\n",
        "    \n",
        "    plt.tight_layout()\n",
        "    plt.show()\n"
      ]
    },
    {
      "cell_type": "code",
      "execution_count": null,
      "metadata": {},
      "outputs": [],
      "source": [
        "def main():\n",
        "    base_dir = os.path.normpath(r'D:\\SamsungSTF\\Processed_Data\\TripByTrip')\n",
        "    model_path = os.path.join(os.path.dirname(base_dir), 'Power_model_XGBoost.json')\n",
        "\n",
        "\n",
        "    all_files = load_files(base_dir, vehicle_dict)\n",
        "    altitude_files = [file for file in all_files if 'altitude' in file]\n",
        "    random.shuffle(altitude_files)\n",
        "    \n",
        "    for file in altitude_files[:5]:\n",
        "        data = pd.read_csv(file)\n",
        "        plot_comparison(data, os.path.basename(file).replace('.csv', ''))\n",
        "\n",
        "if __name__ == \"__main__\":\n",
        "    main()\n"
      ]
    }
  ],
  "metadata": {
    "anaconda-cloud": {},
    "kernelspec": {
      "display_name": "Python 3",
      "language": "python",
      "name": "python3"
    },
    "language_info": {
      "codemirror_mode": {
        "name": "ipython",
        "version": 3
      },
      "file_extension": ".py",
      "mimetype": "text/x-python",
      "name": "python",
      "nbconvert_exporter": "python",
      "pygments_lexer": "ipython3",
      "version": "3.6.1"
    }
  },
  "nbformat": 4,
  "nbformat_minor": 4
}
