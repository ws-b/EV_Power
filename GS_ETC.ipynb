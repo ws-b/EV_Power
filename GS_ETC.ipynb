{
 "cells": [
  {
   "cell_type": "code",
   "execution_count": 2,
   "metadata": {},
   "outputs": [
    {
     "name": "stdout",
     "output_type": "stream",
     "text": [
      "['bms_01241228051-2023-05-trip-73.csv', 'bms_01241228087-2023-07-trip-31.csv', 'bms_01241228094-2023-01-trip-49.csv', 'bms_01241228094-2023-06-trip-31.csv', 'bms_01241228094-2023-06-trip-76.csv', 'bms_01241228094-2023-10-trip-19.csv', 'bms_01241228094-2023-10-trip-22.csv', 'bms_01241228094-2023-11-trip-100.csv', 'bms_01241228107-2023-01-trip-65.csv', 'bms_01241228122-2023-02-trip-10.csv', 'bms_01241228122-2023-02-trip-3.csv', 'bms_01241228122-2023-02-trip-30.csv', 'bms_01241228122-2023-02-trip-31.csv', 'bms_01241228122-2023-02-trip-36.csv', 'bms_01241228122-2023-03-trip-39.csv', 'bms_01241228122-2023-03-trip-40.csv', 'bms_01241228122-2023-03-trip-55.csv', 'bms_01241228122-2023-04-trip-1.csv', 'bms_01241228122-2023-04-trip-16.csv', 'bms_01241228122-2023-04-trip-17.csv', 'bms_01241228122-2023-04-trip-38.csv', 'bms_01241228122-2023-04-trip-39.csv', 'bms_01241228122-2023-04-trip-74.csv', 'bms_01241228122-2023-04-trip-75.csv', 'bms_01241228122-2023-05-trip-43.csv', 'bms_01241228122-2023-05-trip-56.csv', 'bms_01241228122-2023-05-trip-57.csv', 'bms_01241228122-2023-06-trip-19.csv', 'bms_01241228122-2023-06-trip-26.csv', 'bms_01241228122-2023-06-trip-27.csv', 'bms_01241228122-2023-06-trip-76.csv', 'bms_01241228122-2023-06-trip-77.csv', 'bms_01241228122-2023-07-trip-1.csv', 'bms_01241228122-2023-07-trip-18.csv', 'bms_01241228122-2023-07-trip-19.csv', 'bms_01241228122-2023-07-trip-2.csv', 'bms_01241228122-2023-08-trip-39.csv', 'bms_01241228122-2023-08-trip-55.csv', 'bms_01241228122-2023-08-trip-64.csv', 'bms_01241228122-2023-08-trip-66.csv', 'bms_01241228122-2023-09-trip-11.csv', 'bms_01241228122-2023-09-trip-12.csv', 'bms_01241228122-2023-09-trip-80.csv', 'bms_01241228122-2023-10-trip-11.csv', 'bms_01241228122-2023-10-trip-12.csv', 'bms_01241228122-2023-10-trip-14.csv', 'bms_01241228122-2023-10-trip-15.csv', 'bms_01241228122-2023-10-trip-72.csv', 'bms_01241228122-2023-10-trip-73.csv', 'bms_01241228122-2023-11-trip-19.csv', 'bms_01241228122-2023-11-trip-20.csv', 'bms_01241228122-2023-11-trip-67.csv', 'bms_01241228122-2023-12-trip-28.csv', 'bms_01241228122-2023-12-trip-29.csv', 'bms_01241228122-2023-12-trip-62.csv', 'bms_01241228122-2024-01-trip-35.csv', 'bms_01241228151-2023-04-trip-51.csv', 'bms_01241228151-2023-04-trip-55.csv', 'bms_01241228151-2023-05-trip-2.csv', 'bms_01241228151-2023-10-trip-51.csv', 'bms_01241228154-2023-02-trip-15.csv', 'bms_01241228154-2023-02-trip-6.csv', 'bms_01241228154-2023-02-trip-8.csv', 'bms_01241228154-2023-03-trip-12.csv', 'bms_01241228154-2023-03-trip-24.csv', 'bms_01241228154-2023-03-trip-5.csv', 'bms_01241228154-2023-04-trip-9.csv', 'bms_01241228154-2023-05-trip-1.csv', 'bms_01241228154-2023-05-trip-27.csv', 'bms_01241228154-2023-06-trip-2.csv', 'bms_01241228154-2023-06-trip-38.csv', 'bms_01241228154-2023-06-trip-40.csv', 'bms_01241228154-2023-06-trip-42.csv', 'bms_01241228154-2023-07-trip-23.csv', 'bms_01241228154-2023-07-trip-28.csv', 'bms_01241228154-2023-07-trip-34.csv', 'bms_01241228154-2023-07-trip-43.csv', 'bms_01241228154-2023-07-trip-44.csv', 'bms_01241228154-2023-07-trip-8.csv', 'bms_01241228154-2023-08-trip-12.csv', 'bms_01241228154-2023-08-trip-26.csv', 'bms_01241228154-2023-08-trip-27.csv', 'bms_01241228154-2023-08-trip-28.csv', 'bms_01241228154-2023-08-trip-30.csv', 'bms_01241228154-2023-08-trip-31.csv', 'bms_01241228154-2023-08-trip-32.csv', 'bms_01241228154-2023-08-trip-46.csv', 'bms_01241228154-2023-09-trip-10.csv', 'bms_01241228154-2023-09-trip-11.csv', 'bms_01241228154-2023-09-trip-41.csv', 'bms_01241228154-2023-09-trip-6.csv', 'bms_01241228154-2023-10-trip-33.csv', 'bms_01241228154-2023-10-trip-41.csv', 'bms_01241228156-2023-02-trip-1.csv', 'bms_01241228156-2023-02-trip-10.csv', 'bms_01241228156-2023-02-trip-11.csv', 'bms_01241228156-2023-02-trip-13.csv', 'bms_01241228156-2023-02-trip-14.csv', 'bms_01241228156-2023-02-trip-26.csv', 'bms_01241228156-2023-02-trip-27.csv', 'bms_01241228156-2023-02-trip-3.csv', 'bms_01241228156-2023-02-trip-4.csv', 'bms_01241228156-2023-02-trip-41.csv', 'bms_01241228156-2023-02-trip-7.csv', 'bms_01241228156-2023-02-trip-8.csv', 'bms_01241228156-2023-03-trip-34.csv', 'bms_01241228156-2023-03-trip-54.csv', 'bms_01241228156-2023-03-trip-59.csv', 'bms_01241228156-2023-04-trip-39.csv', 'bms_01241228156-2023-05-trip-13.csv', 'bms_01241228156-2023-05-trip-20.csv', 'bms_01241228156-2023-05-trip-24.csv', 'bms_01241228156-2023-05-trip-32.csv', 'bms_01241228156-2023-05-trip-43.csv', 'bms_01241228156-2023-06-trip-31.csv', 'bms_01241228156-2023-06-trip-32.csv', 'bms_01241228156-2023-06-trip-38.csv', 'bms_01241228156-2023-08-trip-38.csv', 'bms_01241228156-2023-08-trip-6.csv', 'bms_01241228156-2023-08-trip-70.csv', 'bms_01241228156-2023-08-trip-73.csv', 'bms_01241228156-2023-09-trip-18.csv', 'bms_01241228156-2023-09-trip-23.csv', 'bms_01241228156-2024-01-trip-71.csv', 'bms_01241228197-2023-02-trip-27.csv', 'bms_01241228197-2023-02-trip-37.csv', 'bms_01241228197-2023-02-trip-38.csv', 'bms_01241228197-2023-02-trip-39.csv', 'bms_01241228197-2023-02-trip-54.csv', 'bms_01241228197-2023-02-trip-55.csv', 'bms_01241228197-2023-03-trip-13.csv', 'bms_01241228197-2023-03-trip-22.csv', 'bms_01241228197-2023-03-trip-32.csv', 'bms_01241228197-2023-03-trip-50.csv', 'bms_01241228197-2023-04-trip-19.csv', 'bms_01241228197-2023-05-trip-37.csv', 'bms_01241228197-2023-05-trip-43.csv', 'bms_01241228197-2023-06-trip-1.csv', 'bms_01241228197-2023-06-trip-18.csv', 'bms_01241228197-2023-06-trip-23.csv', 'bms_01241228197-2023-06-trip-27.csv', 'bms_01241228197-2023-06-trip-6.csv', 'bms_01241228197-2023-06-trip-9.csv', 'bms_01241228197-2023-08-trip-21.csv', 'bms_01241228197-2023-08-trip-34.csv', 'bms_01241228197-2023-08-trip-35.csv', 'bms_01241228197-2023-08-trip-37.csv', 'bms_01241228197-2023-08-trip-42.csv', 'bms_01241228197-2023-08-trip-46.csv', 'bms_01241228197-2023-08-trip-53.csv', 'bms_01241228197-2023-09-trip-20.csv', 'bms_01241228197-2023-09-trip-24.csv', 'bms_01241228197-2023-09-trip-39.csv', 'bms_01241228197-2023-09-trip-4.csv', 'bms_01241228197-2023-10-trip-17.csv', 'bms_01241228197-2023-10-trip-37.csv', 'bms_01241228197-2023-10-trip-39.csv', 'bms_01241228197-2023-11-trip-1.csv', 'bms_01241228197-2023-11-trip-11.csv', 'bms_01241228197-2023-11-trip-28.csv', 'bms_01241228197-2023-11-trip-29.csv', 'bms_01241228197-2023-11-trip-4.csv', 'bms_01241228197-2023-11-trip-47.csv', 'bms_01241228197-2023-12-trip-30.csv', 'bms_01241228197-2023-12-trip-8.csv', 'bms_01241228203-2023-02-trip-54.csv', 'bms_01241228203-2023-09-trip-61.csv', 'bms_01241228204-2023-10-trip-4.csv', 'bms_01241248820-2023-10-trip-12.csv', 'bms_01241248912-2023-04-trip-52.csv', 'bms_01241248926-2023-09-trip-20.csv', 'bms_altitude_01241228149-2023-09-trip-43.csv', 'bms_altitude_01241228149-2023-09-trip-74.csv', 'bms_altitude_01241228149-2023-10-trip-14.csv', 'bms_altitude_01241228149-2023-10-trip-15.csv', 'bms_altitude_01241228149-2023-10-trip-89.csv', 'bms_altitude_01241228149-2024-01-trip-77.csv', 'bms_altitude_01241228149-2024-02-trip-24.csv', 'bms_altitude_01241228149-2024-04-trip-69.csv', 'bms_altitude_01241228153-2023-09-trip-34.csv', 'bms_altitude_01241228155-2023-09-trip-24.csv', 'bms_altitude_01241228155-2023-09-trip-46.csv', 'bms_altitude_01241228155-2023-09-trip-48.csv', 'bms_altitude_01241248726-2023-08-trip-22.csv', 'bms_altitude_01241248726-2023-08-trip-25.csv', 'bms_altitude_01241248726-2023-08-trip-33.csv', 'bms_altitude_01241248726-2023-08-trip-39.csv', 'bms_altitude_01241248726-2023-08-trip-5.csv', 'bms_altitude_01241248726-2023-09-trip-1.csv', 'bms_altitude_01241248726-2023-09-trip-13.csv', 'bms_altitude_01241248726-2023-09-trip-17.csv', 'bms_altitude_01241248726-2023-09-trip-18.csv', 'bms_altitude_01241248726-2023-09-trip-28.csv', 'bms_altitude_01241248726-2023-09-trip-8.csv', 'bms_altitude_01241248726-2023-10-trip-14.csv', 'bms_altitude_01241248726-2023-10-trip-17.csv', 'bms_altitude_01241248726-2023-10-trip-18.csv', 'bms_altitude_01241248726-2023-10-trip-5.csv', 'bms_altitude_01241248726-2023-11-trip-2.csv', 'bms_altitude_01241248726-2023-11-trip-3.csv', 'bms_altitude_01241248726-2023-11-trip-39.csv', 'bms_altitude_01241248726-2023-11-trip-46.csv', 'bms_altitude_01241248726-2023-12-trip-10.csv', 'bms_altitude_01241248726-2023-12-trip-15.csv', 'bms_altitude_01241248726-2024-01-trip-29.csv', 'bms_altitude_01241248726-2024-01-trip-30.csv', 'bms_altitude_01241248726-2024-01-trip-49.csv', 'bms_altitude_01241248726-2024-02-trip-13.csv', 'bms_altitude_01241248726-2024-04-trip-21.csv', 'bms_altitude_01241248929-2024-04-trip-52.csv', 'bms_altitude_01241321944-2024-04-trip-3.csv', 'bms_altitude_01241364621-2023-08-trip-3.csv', 'bms_altitude_01241364621-2023-08-trip-42.csv', 'bms_altitude_01241364621-2023-09-trip-18.csv', 'bms_altitude_01241364621-2023-09-trip-20.csv', 'bms_altitude_01241364621-2023-09-trip-50.csv', 'bms_altitude_01241364621-2023-10-trip-13.csv', 'bms_altitude_01241364621-2023-10-trip-38.csv', 'bms_altitude_01241364621-2023-11-trip-14.csv', 'bms_altitude_01241364621-2023-11-trip-19.csv', 'bms_altitude_01241364621-2023-11-trip-37.csv', 'bms_altitude_01241364621-2023-11-trip-5.csv', 'bms_altitude_01241364621-2023-12-trip-1.csv', 'bms_altitude_01241364621-2023-12-trip-38.csv', 'bms_altitude_01241364621-2024-01-trip-13.csv', 'bms_altitude_01241364621-2024-01-trip-14.csv', 'bms_altitude_01241364621-2024-01-trip-19.csv', 'bms_altitude_01241364621-2024-01-trip-26.csv', 'bms_altitude_01241364621-2024-01-trip-29.csv', 'bms_altitude_01241364621-2024-01-trip-38.csv', 'bms_altitude_01241364621-2024-01-trip-46.csv', 'bms_altitude_01241364621-2024-02-trip-16.csv', 'bms_altitude_01241364621-2024-02-trip-20.csv', 'bms_altitude_01241364621-2024-02-trip-22.csv', 'bms_altitude_01241364621-2024-02-trip-3.csv', 'bms_altitude_01241364621-2024-02-trip-33.csv', 'bms_altitude_01241364621-2024-02-trip-34.csv', 'bms_altitude_01241364621-2024-02-trip-45.csv', 'bms_altitude_01241364621-2024-02-trip-49.csv', 'bms_altitude_01241364621-2024-02-trip-55.csv', 'bms_altitude_01241364621-2024-03-trip-13.csv', 'bms_altitude_01241364621-2024-03-trip-16.csv', 'bms_altitude_01241364621-2024-03-trip-23.csv', 'bms_altitude_01241364621-2024-03-trip-38.csv', 'bms_altitude_01241364621-2024-03-trip-43.csv', 'bms_altitude_01241364621-2024-03-trip-46.csv', 'bms_altitude_01241364621-2024-03-trip-47.csv', 'bms_altitude_01241364621-2024-04-trip-23.csv', 'bms_altitude_01241364621-2024-04-trip-29.csv', 'bms_altitude_01241364621-2024-04-trip-48.csv', 'bms_altitude_01241364621-2024-04-trip-50.csv']\n"
     ]
    }
   ],
   "source": [
    "import os\n",
    "import pandas as pd\n",
    "import dask.bag as db\n",
    "from dask.distributed import Client\n",
    "\n",
    "# Define the directory containing the CSV files\n",
    "directory = r'D:\\SamsungSTF\\Processed_Data\\TripByTrip'\n",
    "\n",
    "# Function to check if a file contains acceleration values >= 9.8\n",
    "def check_file(filepath):\n",
    "    try:\n",
    "        df = pd.read_csv(filepath)\n",
    "        if 'acceleration' in df.columns:\n",
    "            if (df['acceleration'].abs() >= 9).any():\n",
    "                return os.path.basename(filepath)\n",
    "    except Exception as e:\n",
    "        print(f\"Error processing file {filepath}: {e}\")\n",
    "    return None\n",
    "\n",
    "def main():\n",
    "    # Start a Dask client with a specified port\n",
    "    client = Client(dashboard_address=':7868')  # You can choose any available port here\n",
    "\n",
    "    # Get list of all CSV files in the directory\n",
    "    csv_files = [os.path.join(directory, filename) for filename in os.listdir(directory) if filename.endswith(\".csv\")]\n",
    "\n",
    "    # Create a Dask bag of the file paths\n",
    "    file_bag = db.from_sequence(csv_files, npartitions=10)\n",
    "    \n",
    "    # Map the check_file function to the file paths\n",
    "    results = file_bag.map(check_file).compute()\n",
    "\n",
    "    # Filter out None results\n",
    "    files_with_high_acceleration = [result for result in results if result]\n",
    "\n",
    "    return files_with_high_acceleration\n",
    "\n",
    "if __name__ == \"__main__\":\n",
    "    result_files = main()\n",
    "    print(result_files)\n"
   ]
  }
 ],
 "metadata": {
  "kernelspec": {
   "display_name": "Python 3",
   "language": "python",
   "name": "python3"
  },
  "language_info": {
   "codemirror_mode": {
    "name": "ipython",
    "version": 3
   },
   "file_extension": ".py",
   "mimetype": "text/x-python",
   "name": "python",
   "nbconvert_exporter": "python",
   "pygments_lexer": "ipython3",
   "version": "3.12.0"
  }
 },
 "nbformat": 4,
 "nbformat_minor": 2
}
