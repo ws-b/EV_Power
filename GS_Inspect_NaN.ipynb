{
 "cells": [
  {
   "cell_type": "code",
   "id": "initial_id",
   "metadata": {
    "collapsed": true,
    "ExecuteTime": {
     "end_time": "2024-06-08T04:05:56.617022Z",
     "start_time": "2024-06-08T04:05:20.650934Z"
    }
   },
   "source": [
    "import os\n",
    "import pandas as pd\n",
    "import dask.bag as db\n",
    "from dask.distributed import Client\n",
    "import shutil\n",
    "\n",
    "# Define the directories and output path\n",
    "directory = r'D:\\SamsungSTF\\Processed_Data\\TripByTrip'\n",
    "output_path = r'C:\\Users\\BSL\\Desktop\\result_files_nan.csv'\n",
    "destination_directory = r'D:\\SamsungSTF\\Processed_Data\\MissingData_NAN'\n",
    "\n",
    "# Function to check if a file contains NaN values in specified columns\n",
    "def check_file(filepath):\n",
    "    try:\n",
    "        df = pd.read_csv(filepath)\n",
    "        if any(col in df.columns for col in ['speed', 'acceleration', 'Power_IV', 'Power']):\n",
    "            if df[['speed', 'acceleration', 'Power_IV', 'Power']].isnull().any().any():\n",
    "                return os.path.basename(filepath)\n",
    "    except Exception as e:\n",
    "        print(f\"Error processing file {filepath}: {e}\")\n",
    "    return None\n",
    "\n",
    "def main():\n",
    "    # Start a Dask client with a specified port\n",
    "    client = Client(dashboard_address=':7869')  # You can choose any available port here\n",
    "\n",
    "    # Get list of all CSV files in the directory\n",
    "    csv_files = [os.path.join(directory, filename) for filename in os.listdir(directory) if filename.endswith(\".csv\")]\n",
    "\n",
    "    # Create a Dask bag of the file paths\n",
    "    file_bag = db.from_sequence(csv_files, npartitions=32)\n",
    "    \n",
    "    # Map the check_file function to the file paths\n",
    "    results = file_bag.map(check_file).compute()\n",
    "\n",
    "    # Filter out None results\n",
    "    files_with_nan_values = [result for result in results if result]\n",
    "    files_with_nan_values.sort()\n",
    "    \n",
    "    # Save results to a CSV file\n",
    "    result_df = pd.DataFrame(files_with_nan_values, columns=['filename'])\n",
    "    result_df.to_csv(output_path, index=False)\n",
    "\n",
    "    # Move files with NaN values to the destination directory\n",
    "    for filename in files_with_nan_values:\n",
    "        source_path = os.path.join(directory, filename)\n",
    "        if not os.path.exists(destination_directory):\n",
    "            os.makedirs(destination_directory)\n",
    "        destination_path = os.path.join(destination_directory, filename)\n",
    "        shutil.move(source_path, destination_path)\n",
    "    \n",
    "    client.close()\n",
    "    return files_with_nan_values\n",
    "\n",
    "if __name__ == \"__main__\":\n",
    "    result_files = main()\n",
    "    print(result_files)\n"
   ],
   "outputs": [
    {
     "name": "stdout",
     "output_type": "stream",
     "text": [
      "[]\n"
     ]
    }
   ],
   "execution_count": 1
  }
 ],
 "metadata": {
  "kernelspec": {
   "display_name": "Python 3",
   "language": "python",
   "name": "python3"
  },
  "language_info": {
   "codemirror_mode": {
    "name": "ipython",
    "version": 2
   },
   "file_extension": ".py",
   "mimetype": "text/x-python",
   "name": "python",
   "nbconvert_exporter": "python",
   "pygments_lexer": "ipython2",
   "version": "2.7.6"
  }
 },
 "nbformat": 4,
 "nbformat_minor": 5
}
