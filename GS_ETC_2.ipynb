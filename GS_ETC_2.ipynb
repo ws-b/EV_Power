{
 "cells": [
  {
   "cell_type": "code",
   "execution_count": 2,
   "metadata": {},
   "outputs": [
    {
     "name": "stdout",
     "output_type": "stream",
     "text": [
      "D:\\SamsungSTF\\Processed_Data\\Merged\\EV6\\bms_01241228048_2023-01.csv\n",
      "D:\\SamsungSTF\\Processed_Data\\Merged\\EV6\\bms_01241228048_2023-02.csv\n",
      "D:\\SamsungSTF\\Processed_Data\\Merged\\EV6\\bms_01241228048_2023-03.csv\n",
      "D:\\SamsungSTF\\Processed_Data\\Merged\\EV6\\bms_01241228048_2023-04.csv\n",
      "D:\\SamsungSTF\\Processed_Data\\Merged\\EV6\\bms_01241228048_2023-05.csv\n",
      "D:\\SamsungSTF\\Processed_Data\\Merged\\EV6\\bms_01241228048_2023-06.csv\n",
      "D:\\SamsungSTF\\Processed_Data\\Merged\\EV6\\bms_01241228048_2023-07.csv\n",
      "D:\\SamsungSTF\\Processed_Data\\Merged\\EV6\\bms_01241228048_2023-08.csv\n",
      "D:\\SamsungSTF\\Processed_Data\\Merged\\EV6\\bms_01241228048_2023-09.csv\n",
      "D:\\SamsungSTF\\Processed_Data\\Merged\\EV6\\bms_01241228048_2023-10.csv\n",
      "D:\\SamsungSTF\\Processed_Data\\Merged\\EV6\\bms_01241228048_2023-11.csv\n",
      "D:\\SamsungSTF\\Processed_Data\\Merged\\EV6\\bms_01241228048_2023-12.csv\n",
      "D:\\SamsungSTF\\Processed_Data\\Merged\\Ionic6\\bms_altitude_01241248713_2024-03.csv\n",
      "D:\\SamsungSTF\\Processed_Data\\Merged\\Ionic6\\bms_altitude_01241248713_2024-04.csv\n",
      "D:\\SamsungSTF\\Processed_Data\\Merged\\Porter2EV\\bms_altitude_01241228188_2024-01.csv\n"
     ]
    }
   ],
   "source": [
    "import os\n",
    "import pandas as pd\n",
    "\n",
    "# 경로 설정\n",
    "base_folder = r'D:\\SamsungSTF\\Processed_Data\\Merged'\n",
    "\n",
    "# 결과를 저장할 리스트\n",
    "results = []\n",
    "\n",
    "# 폴더 순회\n",
    "for root, dirs, files in os.walk(base_folder):\n",
    "    for file in files:\n",
    "        if file.endswith('.csv'):\n",
    "            file_path = os.path.join(root, file)\n",
    "            df = pd.read_csv(file_path)\n",
    "            \n",
    "            # pack_current 컬럼이 존재하는지 확인\n",
    "            if 'pack_current' in df.columns:\n",
    "                # pack_current 값이 0인 행의 비율 계산\n",
    "                zero_count_ratio = (df['pack_current'] == 0).sum() / len(df)\n",
    "                \n",
    "                # 전체 행의 70% 이상인 경우 파일 경로를 결과 리스트에 추가\n",
    "                if zero_count_ratio >= 0.7:\n",
    "                    results.append(file_path)\n",
    "\n",
    "# 결과 출력\n",
    "for result in results:\n",
    "    print(result)\n"
   ]
  }
 ],
 "metadata": {
  "kernelspec": {
   "display_name": "Python 3",
   "language": "python",
   "name": "python3"
  },
  "language_info": {
   "codemirror_mode": {
    "name": "ipython",
    "version": 3
   },
   "file_extension": ".py",
   "mimetype": "text/x-python",
   "name": "python",
   "nbconvert_exporter": "python",
   "pygments_lexer": "ipython3",
   "version": "3.12.0"
  }
 },
 "nbformat": 4,
 "nbformat_minor": 2
}
